{
 "cells": [
  {
   "cell_type": "markdown",
   "source": [
    "# MAD Straddle\n",
    "\n",
    "Reference:\n",
    "[*Moontower*](https://resources.moontower.ai/the-mad-straddle)\n",
    "\n",
    "Mean Absolute deviation is similar to standard deviation, except it uses absolute value instead of squaring to make sure positive and negative deviations from a mean don't cancel. Also note that median absolute deviation is referred to as MAD.\n",
    "\n",
    "$$\\text{MAD} = \\frac{1}{n} \\sum_{i=1}^{n} |x_i - \\bar{x}|$$\n",
    "and\n",
    "$$SD = \\sqrt{\\frac{1}{n} \\sum_{i=1}^{n} (x_i - \\bar{x})^2}$$\n",
    "Just divide by n-1 instead for the sample version.\n",
    "\n",
    "For a gaussian distribution, $MAD = \\sqrt{\\frac{2}{\\pi}} SD$ and $\\sqrt{\\frac{2}{\\pi}} \\approx 0.8$\n",
    "\n",
    "So: $MAD = 0.8 SD$ and $SD = 1.25MAD$\n",
    "\n",
    "Let's check this:"
   ],
   "metadata": {
    "collapsed": false
   },
   "id": "e42cd72ff9ba022c"
  },
  {
   "cell_type": "code",
   "outputs": [],
   "source": [
    "import numpy as np\n",
    "import yfinance as yf\n",
    "import matplotlib.pyplot as plt"
   ],
   "metadata": {
    "collapsed": false,
    "ExecuteTime": {
     "end_time": "2024-07-12T02:14:36.619585800Z",
     "start_time": "2024-07-12T02:14:36.601069500Z"
    }
   },
   "id": "35203c63d59e8d",
   "execution_count": 135
  },
  {
   "cell_type": "code",
   "execution_count": 136,
   "id": "initial_id",
   "metadata": {
    "collapsed": true,
    "ExecuteTime": {
     "end_time": "2024-07-12T02:14:37.357528700Z",
     "start_time": "2024-07-12T02:14:37.329852700Z"
    }
   },
   "outputs": [
    {
     "name": "stdout",
     "output_type": "stream",
     "text": [
      "0.7921457533891593\n",
      "0.9938597805837399\n"
     ]
    }
   ],
   "source": [
    "# Create a MAD function\n",
    "def mad(data, sample=False):\n",
    "    if not sample:\n",
    "        return np.mean(np.abs(data - data.mean(0)))\n",
    "    else:\n",
    "        return np.sum(np.abs(data - data.mean(0))) / (len(data) - 1)\n",
    "\n",
    "norm_sample = np.random.normal(size=10000)  # Get a sample from a standard normal distribution\n",
    "\n",
    "print(mad(norm_sample))\n",
    "print(norm_sample.std())"
   ]
  },
  {
   "cell_type": "markdown",
   "source": [
    "What if the distribution isn't normal? What can the ratio of SD to MAD tell us if it differs from 1.25?\n",
    "\n",
    "Because of the squaring, SD gives more weight to outliers, so if the distribution is fat-tailed, we have more outliers and the ratio will be larger.  \n",
    "\n",
    "For example, what about stock returns:"
   ],
   "metadata": {
    "collapsed": false
   },
   "id": "c492c623a116bf90"
  },
  {
   "cell_type": "code",
   "outputs": [
    {
     "data": {
      "text/plain": "1.4502263660377899"
     },
     "execution_count": 137,
     "metadata": {},
     "output_type": "execute_result"
    }
   ],
   "source": [
    "def get_returns(ticker='spy', start_date='2018-1-2', end_date='2019-12-31'):\n",
    "    data_hold=yf.Ticker(ticker)\n",
    "    return_df=data_hold.history(start=start_date,  end=end_date)\n",
    "    return_df['Daily_Ret'] = return_df.Close.pct_change()  # Calculate daily returns\n",
    "    return return_df\n",
    "\n",
    "# plt.hist(spy_df.Daily_Ret, bins=40);\n",
    "spy_df = get_returns('spy')\n",
    "spy_df.Daily_Ret.std() / mad(spy_df.Daily_Ret, sample=True) "
   ],
   "metadata": {
    "collapsed": false,
    "ExecuteTime": {
     "end_time": "2024-07-12T02:14:38.288616300Z",
     "start_time": "2024-07-12T02:14:38.258511600Z"
    }
   },
   "id": "aae6ac6bfdd519b6",
   "execution_count": 137
  },
  {
   "cell_type": "markdown",
   "source": [
    "Here's a more extreme example: a bunch of zeros and one 100"
   ],
   "metadata": {
    "collapsed": false
   },
   "id": "62ada2dedf0051bf"
  },
  {
   "cell_type": "code",
   "outputs": [
    {
     "data": {
      "text/plain": "1.5811388300841895"
     },
     "execution_count": 140,
     "metadata": {},
     "output_type": "execute_result"
    }
   ],
   "source": [
    "fat_tail = np.zeros(10)\n",
    "fat_tail[0] = 100\n",
    "\n",
    "fat_tail.std(ddof=1) / mad(fat_tail, sample=True)"
   ],
   "metadata": {
    "collapsed": false,
    "ExecuteTime": {
     "end_time": "2024-07-12T02:15:08.767052600Z",
     "start_time": "2024-07-12T02:15:08.747971900Z"
    }
   },
   "id": "cc5d4d6f463cd55d",
   "execution_count": 140
  },
  {
   "cell_type": "markdown",
   "source": [
    "Here's how the ratio increases as the number of zeros increase:"
   ],
   "metadata": {
    "collapsed": false
   },
   "id": "e6cb7c351e59eb26"
  },
  {
   "cell_type": "code",
   "outputs": [
    {
     "data": {
      "text/plain": "<Figure size 640x480 with 1 Axes>",
      "image/png": "[encoded data removed]"
     },
     "metadata": {},
     "output_type": "display_data"
    }
   ],
   "source": [
    "n = 1000\n",
    "ratio = np.zeros([2,n])\n",
    "for i in range(2,n+2):\n",
    "    fat_tail = np.zeros(i)\n",
    "    ratio[0,i-2] = i + 1\n",
    "    fat_tail[0] = 100\n",
    "    ratio[1,i-2] = fat_tail.std(ddof=1) / mad(fat_tail, sample=True)\n",
    "\n",
    "plt.xlabel('N data points')\n",
    "plt.ylabel('SD to MAD ratio')\n",
    "plt.plot(ratio[0], ratio[1]);"
   ],
   "metadata": {
    "collapsed": false,
    "ExecuteTime": {
     "end_time": "2024-07-12T02:15:15.448005200Z",
     "start_time": "2024-07-12T02:15:15.282843300Z"
    }
   },
   "id": "7bddeb3557a3c90e",
   "execution_count": 141
  },
  {
   "cell_type": "code",
   "outputs": [],
   "source": [],
   "metadata": {
    "collapsed": false
   },
   "id": "5e5e61938a18798a"
  }
 ],
 "metadata": {
  "kernelspec": {
   "display_name": "Python 3",
   "language": "python",
   "name": "python3"
  },
  "language_info": {
   "codemirror_mode": {
    "name": "ipython",
    "version": 2
   },
   "file_extension": ".py",
   "mimetype": "text/x-python",
   "name": "python",
   "nbconvert_exporter": "python",
   "pygments_lexer": "ipython2",
   "version": "2.7.6"
  }
 },
 "nbformat": 4,
 "nbformat_minor": 5
}
