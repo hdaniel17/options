{
 "cells": [
  {
   "cell_type": "markdown",
   "source": [
    "# Local Volatility\n",
    "\n",
    "Reference:\n",
    "[*The Volatility Smile and Its Implied Tree*](https://emanuelderman.com/the-volatility-smile-and-its-implied-tree/) - Emanuel Derman & Iraj Kani"
   ],
   "metadata": {
    "collapsed": false
   },
   "id": "abeac189ebbb218"
  },
  {
   "cell_type": "markdown",
   "source": [
    "Normal CRR Tree"
   ],
   "metadata": {
    "collapsed": false
   },
   "id": "a242690df4755365"
  },
  {
   "cell_type": "code",
   "outputs": [],
   "source": [
    "import numpy as np\n",
    "from scipy.stats import norm\n",
    "import math"
   ],
   "metadata": {
    "collapsed": false,
    "ExecuteTime": {
     "end_time": "2024-09-24T23:58:29.077760Z",
     "start_time": "2024-09-24T23:58:25.771898Z"
    }
   },
   "id": "6fb07ca1da229079",
   "execution_count": 1
  },
  {
   "cell_type": "code",
   "outputs": [],
   "source": [
    "def binomial_price(sigma, K, r, S0, T, m, is_call=True, is_euro=True, q=0):\n",
    "    \"\"\"\n",
    "    CRR option pricing\n",
    "    :param sigma: volatility of the underlying (decimal)\n",
    "    :param K: strike price\n",
    "    :param r: risk-free rate (decimal)\n",
    "    :param S0: initial asset price\n",
    "    :param T: time until expiration (years)\n",
    "    :param m: number of periods after initial\n",
    "    :param is_call: True for call, False for put\n",
    "    :param is_euro: True for European, False for American\n",
    "    :param q: dividend yield (decimal)\n",
    "\n",
    "    :return: price of option\n",
    "    \"\"\"\n",
    "    dt = T / m\n",
    "    u = np.exp(sigma * np.sqrt(dt))  # up movement size\n",
    "    d = 1 / u  # down movement size\n",
    "    p = (np.exp((r - q) * dt) - d) / (u - d)  # risk-neutral up probability\n",
    "\n",
    "    price_tree = np.zeros((m + 1, m + 1))\n",
    "    option_values = np.zeros((m + 1, m + 1))\n",
    "\n",
    "    for j in range(m + 1):\n",
    "        for i in range(j + 1):\n",
    "            price_tree[i, j] = S0 * (u ** (j - i)) * (d ** i)\n",
    "\n",
    "    if is_call:\n",
    "        option_values[:, m] = np.maximum(np.zeros(m + 1), price_tree[:, m] - K)\n",
    "    else:\n",
    "        option_values[:, m] = np.maximum(np.zeros(m + 1), K - price_tree[:, m])\n",
    "\n",
    "    for j in range(m - 1, -1, -1):\n",
    "        for i in range(j + 1):\n",
    "            cont = np.exp(-r * dt) * (p * option_values[i, j + 1] + (1 - p) * option_values[i + 1, j + 1])\n",
    "            if is_euro or is_call:\n",
    "                option_values[i, j] = cont\n",
    "            else:\n",
    "                option_values[i, j] = max(K - price_tree[i, j], cont)\n",
    "\n",
    "    return option_values[0, 0]"
   ],
   "metadata": {
    "collapsed": false,
    "ExecuteTime": {
     "end_time": "2024-09-25T01:57:42.769378Z",
     "start_time": "2024-09-25T01:57:42.763037Z"
    }
   },
   "id": "777924c430a6a392",
   "execution_count": 34
  },
  {
   "cell_type": "code",
   "execution_count": 2,
   "id": "initial_id",
   "metadata": {
    "collapsed": true,
    "ExecuteTime": {
     "end_time": "2024-09-24T23:58:35.385147Z",
     "start_time": "2024-09-24T23:58:35.380473Z"
    }
   },
   "outputs": [],
   "source": [
    "T = 5\n",
    "dt = 1  \n",
    "m = int(T/dt)\n",
    "S0 = 100\n",
    "r = 0.03\n",
    "sigma = 0.10\n",
    "q = 0\n",
    "\n",
    "u = np.exp(sigma * np.sqrt(dt))  # up movement size\n",
    "d = 1 / u  # down movement size\n",
    "p = (np.exp((r - q) * dt) - d) / (u - d)  # risk-neutral up probability\n",
    "\n",
    "price_tree = np.zeros((m + 1, m + 1))\n",
    "option_values = np.zeros((m + 1, m + 1))\n",
    "\n",
    "for j in range(m + 1):\n",
    "    for i in range(j + 1):\n",
    "        price_tree[i, j] = S0 * (u ** (j - i)) * (d ** i)"
   ]
  },
  {
   "cell_type": "code",
   "outputs": [
    {
     "data": {
      "text/plain": "array([[100.        , 110.51709181, 122.14027582, 134.98588076,\n        149.18246976, 164.87212707],\n       [  0.        ,  90.4837418 , 100.        , 110.51709181,\n        122.14027582, 134.98588076],\n       [  0.        ,   0.        ,  81.87307531,  90.4837418 ,\n        100.        , 110.51709181],\n       [  0.        ,   0.        ,   0.        ,  74.08182207,\n         81.87307531,  90.4837418 ],\n       [  0.        ,   0.        ,   0.        ,   0.        ,\n         67.0320046 ,  74.08182207],\n       [  0.        ,   0.        ,   0.        ,   0.        ,\n          0.        ,  60.65306597]])"
     },
     "execution_count": 3,
     "metadata": {},
     "output_type": "execute_result"
    }
   ],
   "source": [
    "price_tree"
   ],
   "metadata": {
    "collapsed": false,
    "ExecuteTime": {
     "end_time": "2024-09-24T23:58:36.116329Z",
     "start_time": "2024-09-24T23:58:36.108626Z"
    }
   },
   "id": "5328fac62793431b",
   "execution_count": 3
  },
  {
   "cell_type": "code",
   "outputs": [],
   "source": [
    "T = 5\n",
    "dt = 1\n",
    "m = int(T/dt)\n",
    "S0 = 100\n",
    "r = 0.03  # Assume a constant risk-free rate\n",
    "sigma = 0.10\n",
    "q = 0\n",
    "\n",
    "u = np.exp(sigma * np.sqrt(dt))  # up movement size\n",
    "d = 1 / u  # down movement size\n",
    "p = (np.exp((r - q) * dt) - d) / (u - d)  # risk-neutral up probability\n",
    "\n",
    "price_tree = np.zeros((m + 1, m + 1))\n",
    "option_values = np.zeros((m + 1, m + 1))\n",
    "\n",
    "for j in range(m + 1):\n",
    "    for i in range(j + 1):\n",
    "        price_tree[i, j] = S0 * (u ** (j - i)) * (d ** i)"
   ],
   "metadata": {
    "collapsed": false,
    "ExecuteTime": {
     "end_time": "2024-09-24T23:58:53.321661Z",
     "start_time": "2024-09-24T23:58:53.317531Z"
    }
   },
   "id": "9f67e569abfba7f",
   "execution_count": 4
  },
  {
   "cell_type": "code",
   "outputs": [],
   "source": [
    "def black_scholes(sigma, K, r, S0, T, is_call=True, q=0):\n",
    "    \"\"\"\n",
    "    Black-Scholes option pricing\n",
    "    :param sigma: volatility of the underlying (decimal)\n",
    "    :param K: strike price\n",
    "    :param r: risk-free rate (decimal)\n",
    "    :param S0: initial asset price\n",
    "    :param T: time until expiration (years)\n",
    "    :param is_call: True for call, False for put\n",
    "    :param q: dividend yield (decimal)\n",
    "\n",
    "    :return: price of option\n",
    "    \"\"\"\n",
    "    d1 = (math.log(S0 / K) + (r - q + 0.5 * sigma ** 2) * T) / (sigma * math.sqrt(T))\n",
    "    d2 = d1 - sigma * math.sqrt(T)\n",
    "\n",
    "    if is_call:\n",
    "        price = S0 * norm.cdf(d1) * math.exp(-q * T) - K * math.exp(-r * T) * norm.cdf(d2)\n",
    "        return float(price)\n",
    "    else:\n",
    "        price = K * math.exp(-r * T) * norm.cdf(-d2) - S0 * norm.cdf(-d1) * math.exp(-q * T)\n",
    "        return float(price)"
   ],
   "metadata": {
    "collapsed": false,
    "ExecuteTime": {
     "end_time": "2024-09-24T23:58:54.005752Z",
     "start_time": "2024-09-24T23:58:54.000359Z"
    }
   },
   "id": "8f5a7d04fd24cb95",
   "execution_count": 5
  },
  {
   "cell_type": "code",
   "outputs": [],
   "source": [
    "price_tree = np.zeros((m + 1, m + 1))\n",
    "price_tree[0,0] = S0\n",
    "for i in range(1,m+1):\n",
    "    n = i + 1  # Number of nodes\n",
    "    if n % 2 == 0:\n",
    "        bs_price = black_scholes(sigma,S0,r,S0,dt,is_call=True)\n",
    "        up_center = (S0 * np.exp(r * dt) * bs_price)/()\n",
    "        down_center = 0\n",
    "         \n",
    "    else:\n",
    "        center = int(i/2)\n",
    "        price_tree[center,1] = S0\n",
    "        "
   ],
   "metadata": {
    "collapsed": false,
    "ExecuteTime": {
     "end_time": "2024-09-24T23:58:54.682508Z",
     "start_time": "2024-09-24T23:58:54.674219Z"
    }
   },
   "id": "f5e7e4d18142b481",
   "execution_count": 6
  },
  {
   "cell_type": "code",
   "outputs": [
    {
     "data": {
      "text/plain": "2.0"
     },
     "execution_count": 7,
     "metadata": {},
     "output_type": "execute_result"
    }
   ],
   "source": [
    "np.floor(2.5)"
   ],
   "metadata": {
    "collapsed": false,
    "ExecuteTime": {
     "end_time": "2024-09-24T23:58:55.585984Z",
     "start_time": "2024-09-24T23:58:55.581607Z"
    }
   },
   "id": "64f4d7d0ea91d0f3",
   "execution_count": 7
  },
  {
   "cell_type": "markdown",
   "source": [
    "New stuff"
   ],
   "metadata": {
    "collapsed": false
   },
   "id": "c7258831281b9f9a"
  },
  {
   "cell_type": "code",
   "outputs": [],
   "source": [
    "T = 5\n",
    "dt = 1\n",
    "m = int(T/dt)\n",
    "S0 = 100\n",
    "r = 0.03  # Assume a constant risk-free rate\n",
    "sigma = 0.10\n",
    "q = 0\n",
    "\n",
    "u = np.exp(sigma * np.sqrt(dt))  # up movement size\n",
    "d = 1 / u  # down movement size\n",
    "p = (np.exp((r - q) * dt) - d) / (u - d)  # risk-neutral up probability\n",
    "\n",
    "price_tree = np.zeros((m + 1, m + 1))\n",
    "option_values = np.zeros((m + 1, m + 1))\n",
    "implied_tree = np.zeros((m + 1, m + 1))\n",
    "ab_tree = np.zeros((m + 1, m + 1))\n",
    "p_tree = np.zeros((m + 1, m + 1))\n",
    "\n",
    "for j in range(m + 1):\n",
    "    for i in range(j + 1):\n",
    "        price_tree[i, j] = S0 * (u ** (j - i)) * (d ** i)"
   ],
   "metadata": {
    "collapsed": false,
    "ExecuteTime": {
     "end_time": "2024-09-24T23:58:56.871069Z",
     "start_time": "2024-09-24T23:58:56.865659Z"
    }
   },
   "id": "11d735c713cc7eda",
   "execution_count": 8
  },
  {
   "cell_type": "code",
   "outputs": [
    {
     "data": {
      "text/plain": "array([[100.        , 110.51709181, 122.14027582, 134.98588076,\n        149.18246976, 164.87212707],\n       [  0.        ,  90.4837418 , 100.        , 110.51709181,\n        122.14027582, 134.98588076],\n       [  0.        ,   0.        ,  81.87307531,  90.4837418 ,\n        100.        , 110.51709181],\n       [  0.        ,   0.        ,   0.        ,  74.08182207,\n         81.87307531,  90.4837418 ],\n       [  0.        ,   0.        ,   0.        ,   0.        ,\n         67.0320046 ,  74.08182207],\n       [  0.        ,   0.        ,   0.        ,   0.        ,\n          0.        ,  60.65306597]])"
     },
     "execution_count": 9,
     "metadata": {},
     "output_type": "execute_result"
    }
   ],
   "source": [
    "price_tree"
   ],
   "metadata": {
    "collapsed": false,
    "ExecuteTime": {
     "end_time": "2024-09-24T23:58:57.590168Z",
     "start_time": "2024-09-24T23:58:57.585672Z"
    }
   },
   "id": "ced795f6341dc6cc",
   "execution_count": 9
  },
  {
   "cell_type": "code",
   "outputs": [
    {
     "data": {
      "text/plain": "6.401097557107302"
     },
     "execution_count": 10,
     "metadata": {},
     "output_type": "execute_result"
    }
   ],
   "source": [
    "np.exp(-0.03) * 10.52 * 0.627 "
   ],
   "metadata": {
    "collapsed": false,
    "ExecuteTime": {
     "end_time": "2024-09-24T23:59:40.532884Z",
     "start_time": "2024-09-24T23:59:40.527969Z"
    }
   },
   "id": "d2007d6ea5c51ad7",
   "execution_count": 10
  },
  {
   "cell_type": "code",
   "outputs": [
    {
     "data": {
      "text/plain": "array([[17.19753194, 23.36804993, 31.19835461, 40.8094274 , 52.13791641,\n        64.87212707],\n       [ 0.        ,  8.22761927, 12.11147819, 17.58725556, 25.09572246,\n        34.98588076],\n       [ 0.        ,  0.        ,  2.36970825,  3.89429166,  6.39973616,\n        10.51709181],\n       [ 0.        ,  0.        ,  0.        ,  0.        ,  0.        ,\n         0.        ],\n       [ 0.        ,  0.        ,  0.        ,  0.        ,  0.        ,\n         0.        ],\n       [ 0.        ,  0.        ,  0.        ,  0.        ,  0.        ,\n         0.        ]])"
     },
     "execution_count": 11,
     "metadata": {},
     "output_type": "execute_result"
    }
   ],
   "source": [
    "is_call = True\n",
    "is_euro = True\n",
    "K = S0\n",
    "m = 5\n",
    "if is_call:\n",
    "    option_values[:, m] = np.maximum(np.zeros(m + 1), price_tree[:, m] - K)\n",
    "else:\n",
    "    option_values[:, m] = np.maximum(np.zeros(m + 1), K - price_tree[:, m])\n",
    "\n",
    "for j in range(m - 1, -1, -1):\n",
    "    for i in range(j + 1):\n",
    "        cont = np.exp(-r * dt) * (p * option_values[i, j + 1] + (1 - p) * option_values[i + 1, j + 1])\n",
    "        if is_euro or is_call:\n",
    "            option_values[i, j] = cont\n",
    "        else:\n",
    "            option_values[i, j] = max(K - price_tree[i, j], cont)\n",
    "\n",
    "option_values"
   ],
   "metadata": {
    "collapsed": false,
    "ExecuteTime": {
     "end_time": "2024-09-25T00:01:04.865627Z",
     "start_time": "2024-09-25T00:01:04.814700Z"
    }
   },
   "id": "457a8688d38c4604",
   "execution_count": 11
  },
  {
   "cell_type": "code",
   "outputs": [],
   "source": [
    "implied_tree[0,0] = S0\n",
    "ab_tree[0,0] = 1.0\n",
    "# p_tree = [0,0]"
   ],
   "metadata": {
    "collapsed": false,
    "ExecuteTime": {
     "end_time": "2024-09-25T00:03:21.664935Z",
     "start_time": "2024-09-25T00:03:21.661950Z"
    }
   },
   "id": "3b5e4605fb9989dd",
   "execution_count": 12
  },
  {
   "cell_type": "code",
   "outputs": [],
   "source": [
    "# implied tree starts with S0, then we have an even number of nodes and need to find S_{i+1} from the central node\n",
    "\n",
    "normal_u = np.exp(sigma * np.sqrt(dt))\n",
    "normal_d = 1 / normal_u\n",
    "normal_p = (np.exp(r * dt) - normal_d) / (normal_u - normal_d)\n",
    "\n",
    "\n",
    "call = np.exp(-r) * normal_p * (price_tree[0,1]- 100) \n",
    "summ = 0 \n",
    "\n",
    "central_up = S0 * (np.exp(r * dt) * call + ab_tree[0,0] * S0 - summ) / (ab_tree[0,0] * S0 * np.exp(r * dt) - np.exp(r * dt) * call + summ)\n",
    "central_down = (S0**2) / central_up"
   ],
   "metadata": {
    "collapsed": false,
    "ExecuteTime": {
     "end_time": "2024-09-25T00:03:34.696626Z",
     "start_time": "2024-09-25T00:03:34.691314Z"
    }
   },
   "id": "2525c69f7018eeaa",
   "execution_count": 13
  },
  {
   "cell_type": "code",
   "outputs": [
    {
     "data": {
      "text/plain": "6.3997361625294085"
     },
     "execution_count": 14,
     "metadata": {},
     "output_type": "execute_result"
    }
   ],
   "source": [
    "call"
   ],
   "metadata": {
    "collapsed": false,
    "ExecuteTime": {
     "end_time": "2024-09-25T00:03:37.708417Z",
     "start_time": "2024-09-25T00:03:37.704378Z"
    }
   },
   "id": "7cac07f84e32b984",
   "execution_count": 14
  },
  {
   "cell_type": "code",
   "outputs": [
    {
     "data": {
      "text/plain": "110.51709180756477"
     },
     "execution_count": 15,
     "metadata": {},
     "output_type": "execute_result"
    }
   ],
   "source": [
    "central_up"
   ],
   "metadata": {
    "collapsed": false,
    "ExecuteTime": {
     "end_time": "2024-09-25T00:03:38.294454Z",
     "start_time": "2024-09-25T00:03:38.290947Z"
    }
   },
   "id": "17ea3e2a007fe39d",
   "execution_count": 15
  },
  {
   "cell_type": "code",
   "outputs": [
    {
     "data": {
      "text/plain": "0.6247711038805017"
     },
     "execution_count": 16,
     "metadata": {},
     "output_type": "execute_result"
    }
   ],
   "source": [
    "(103 - central_down) / (central_up - central_down)"
   ],
   "metadata": {
    "collapsed": false,
    "ExecuteTime": {
     "end_time": "2024-09-25T00:03:40.684793Z",
     "start_time": "2024-09-25T00:03:40.680534Z"
    }
   },
   "id": "61507a83e83e00a",
   "execution_count": 16
  },
  {
   "cell_type": "markdown",
   "source": [
    "# All together hopefully"
   ],
   "metadata": {
    "collapsed": false
   },
   "id": "298e437753dc0714"
  },
  {
   "cell_type": "code",
   "outputs": [],
   "source": [
    "# Initialize parameters & trees\n",
    "T = 5\n",
    "dt = 1\n",
    "m = int(T/dt)\n",
    "S0 = 100\n",
    "r = 0.03  # Assume a constant risk-free rate\n",
    "sigma = 0.10\n",
    "skew = 0.0005  # Increase in vol for decrease in strike\n",
    "\n",
    "price_tree = np.zeros((m + 1, m + 1))\n",
    "# option_values = np.zeros((m + 1, m + 1))\n",
    "\n",
    "implied_tree = np.zeros((m + 1, m + 1))\n",
    "implied_tree[0,0] = S0\n",
    "\n",
    "ad_tree = np.zeros((m + 1, m + 1))  # Arrow-Debreu price tree\n",
    "ad_tree[0,0] = 1.0\n",
    "\n",
    "vol_tree = np.zeros((m + 1, m + 1)) \n",
    "vol_tree[0,0] = sigma\n",
    "\n",
    "p_tree = np.zeros((m + 1, m + 1))  # risk-neutral probability tree\n",
    "\n",
    "for j in range(m + 1):\n",
    "    for i in range(j + 1):\n",
    "        price_tree[i, j] = S0 * (u ** (j - i)) * (d ** i)\n",
    "        vol_tree[i, j] = sigma - (price_tree[i, j] - S0) * skew"
   ],
   "metadata": {
    "collapsed": false,
    "ExecuteTime": {
     "end_time": "2024-09-25T01:12:51.314803Z",
     "start_time": "2024-09-25T01:12:51.309311Z"
    }
   },
   "id": "98e23c853f02bc21",
   "execution_count": 24
  },
  {
   "cell_type": "code",
   "outputs": [
    {
     "data": {
      "text/plain": "array([[0.1       , 0.09474145, 0.08892986, 0.08250706, 0.07540877,\n        0.06756394],\n       [0.        , 0.10475813, 0.1       , 0.09474145, 0.08892986,\n        0.08250706],\n       [0.        , 0.        , 0.10906346, 0.10475813, 0.1       ,\n        0.09474145],\n       [0.        , 0.        , 0.        , 0.11295909, 0.10906346,\n        0.10475813],\n       [0.        , 0.        , 0.        , 0.        , 0.116484  ,\n        0.11295909],\n       [0.        , 0.        , 0.        , 0.        , 0.        ,\n        0.11967347]])"
     },
     "execution_count": 32,
     "metadata": {},
     "output_type": "execute_result"
    }
   ],
   "source": [
    "vol_tree"
   ],
   "metadata": {
    "collapsed": false,
    "ExecuteTime": {
     "end_time": "2024-09-25T01:55:47.241972Z",
     "start_time": "2024-09-25T01:55:47.236935Z"
    }
   },
   "id": "142ffc430de32c2d",
   "execution_count": 32
  },
  {
   "cell_type": "code",
   "outputs": [
    {
     "data": {
      "text/plain": "array([[100.        , 110.51709181, 122.14027582, 134.98588076,\n        149.18246976, 164.87212707],\n       [  0.        ,  90.4837418 , 100.        , 110.51709181,\n        122.14027582, 134.98588076],\n       [  0.        ,   0.        ,  81.87307531,  90.4837418 ,\n        100.        , 110.51709181],\n       [  0.        ,   0.        ,   0.        ,  74.08182207,\n         81.87307531,  90.4837418 ],\n       [  0.        ,   0.        ,   0.        ,   0.        ,\n         67.0320046 ,  74.08182207],\n       [  0.        ,   0.        ,   0.        ,   0.        ,\n          0.        ,  60.65306597]])"
     },
     "execution_count": 31,
     "metadata": {},
     "output_type": "execute_result"
    }
   ],
   "source": [
    "price_tree"
   ],
   "metadata": {
    "collapsed": false,
    "ExecuteTime": {
     "end_time": "2024-09-25T01:32:59.294389Z",
     "start_time": "2024-09-25T01:32:59.289166Z"
    }
   },
   "id": "cadae3585775aaf7",
   "execution_count": 31
  },
  {
   "cell_type": "code",
   "outputs": [],
   "source": [
    "# Make sure to update p tree and ad tree\n",
    "# Change to work for any dt\n",
    "\n",
    "normal_u = np.exp(sigma * np.sqrt(dt))  # Normal risk-neutral factors/p\n",
    "normal_d = 1 / normal_u\n",
    "normal_p = (np.exp(r * dt) - normal_d) / (normal_u - normal_d)\n",
    "\n",
    "for i in range(2):\n",
    "    n = i + 2  # Number of nodes\n",
    "    even_nodes = (n % 2 == 0) \n",
    "    \n",
    "    # Central node(s)\n",
    "    if even_nodes:\n",
    "        # Start with central two nodes\n",
    "        call = np.exp(-r) * normal_p * (price_tree[int(n/2)-1,n-1] - price_tree[int(n/2)-1,n-2]) \n",
    "        summ = 0  # FIX THIS - ONLY TRUE FOR N == 2 MIGHT BE FIXED\n",
    "        price = price_tree[int(n/2)-1,n-2]\n",
    "        for j in range(int(n/2)-2,-1,-1):\n",
    "            summ += ad_tree[j,n-2] * ((1+r)*price_tree[j,n-2] - price)\n",
    "        \n",
    "        implied_tree[int(n/2)-1, n-1] = S0 * (np.exp(r * dt) * call + ad_tree[int(n/2)-1,n-2] * S0 - summ) / (ad_tree[int(n/2)-1,n-2] * S0 * np.exp(r * dt) - np.exp(r * dt) * call + summ)\n",
    "        implied_tree[int(n/2),n-1] = (S0**2) / implied_tree[int(n/2)-1, n-1]\n",
    "        \n",
    "        first_upper = int(n/2)-2\n",
    "    else:\n",
    "        # Middle node equal to spot\n",
    "        implied_tree[int(np.floor(n/2)),n-1] = S0\n",
    "        first_upper = int(np.floor(n/2)) - 1\n",
    "        \n",
    "    # Upper Nodes   \n",
    "    for j in range(first_upper,-1,-1):\n",
    "        implied_tree[j,n-1] = \n",
    "        # DOWN ONE implied_tree[j+1,n-1]\n",
    "        \n",
    "    # Lower nodes\n",
    "    \n",
    "    # probability tree\n",
    "    for j in range(n-1):\n",
    "        p_tree[j,n-2] = ((1+r) * price_tree[j,n-2] - implied_tree[j+1,n-1]) / (implied_tree[j,n-1] - implied_tree[j+1,n-1])\n",
    "        \n",
    "    # AD Tree\n",
    "    for j in range(n):\n",
    "        if j == 0:\n",
    "            ad_tree[j,n-1] = ad_tree[j,n-2] * p_tree[j,n-2] / (1+r)\n",
    "        elif j == n-1:\n",
    "            ad_tree[j,n-1] = ad_tree[j-1,n-2] * (1-p_tree[j-1,n-2]) / (1+r)\n",
    "        else:\n",
    "            ad_tree[j,n-1] = (ad_tree[j,n-2] * p_tree[j,n-2] + ad_tree[j-1,n-2] * (1-p_tree[j-1,n-2])) / (1+r)"
   ],
   "metadata": {
    "collapsed": false,
    "ExecuteTime": {
     "end_time": "2024-09-25T01:12:51.740279Z",
     "start_time": "2024-09-25T01:12:51.730587Z"
    }
   },
   "id": "4df9f0118f40e70d",
   "execution_count": 25
  },
  {
   "cell_type": "code",
   "outputs": [
    {
     "data": {
      "text/plain": "array([[100.        , 110.51709181,   0.        ,   0.        ,\n          0.        ,   0.        ],\n       [  0.        ,  90.4837418 , 100.        ,   0.        ,\n          0.        ,   0.        ],\n       [  0.        ,   0.        ,   0.        ,   0.        ,\n          0.        ,   0.        ],\n       [  0.        ,   0.        ,   0.        ,   0.        ,\n          0.        ,   0.        ],\n       [  0.        ,   0.        ,   0.        ,   0.        ,\n          0.        ,   0.        ],\n       [  0.        ,   0.        ,   0.        ,   0.        ,\n          0.        ,   0.        ]])"
     },
     "execution_count": 26,
     "metadata": {},
     "output_type": "execute_result"
    }
   ],
   "source": [
    "implied_tree"
   ],
   "metadata": {
    "collapsed": false,
    "ExecuteTime": {
     "end_time": "2024-09-25T01:12:52.253576Z",
     "start_time": "2024-09-25T01:12:52.249626Z"
    }
   },
   "id": "86f8b6cc7e5a5595",
   "execution_count": 26
  },
  {
   "cell_type": "code",
   "outputs": [
    {
     "data": {
      "text/plain": "array([[ 0.6247711 , -0.13832605,  0.        ,  0.        ,  0.        ,\n         0.        ],\n       [ 0.        ,  0.93198254,  0.        ,  0.        ,  0.        ,\n         0.        ],\n       [ 0.        ,  0.        ,  0.        ,  0.        ,  0.        ,\n         0.        ],\n       [ 0.        ,  0.        ,  0.        ,  0.        ,  0.        ,\n         0.        ],\n       [ 0.        ,  0.        ,  0.        ,  0.        ,  0.        ,\n         0.        ],\n       [ 0.        ,  0.        ,  0.        ,  0.        ,  0.        ,\n         0.        ]])"
     },
     "execution_count": 29,
     "metadata": {},
     "output_type": "execute_result"
    }
   ],
   "source": [
    "p_tree"
   ],
   "metadata": {
    "collapsed": false,
    "ExecuteTime": {
     "end_time": "2024-09-25T01:13:28.503255Z",
     "start_time": "2024-09-25T01:13:28.497562Z"
    }
   },
   "id": "10d7ce0501905ae8",
   "execution_count": 29
  },
  {
   "cell_type": "code",
   "outputs": [
    {
     "data": {
      "text/plain": "array([[0.1       , 0.09474145, 0.08892986, 0.08250706, 0.07540877,\n        0.06756394],\n       [0.        , 0.10475813, 0.1       , 0.09474145, 0.08892986,\n        0.08250706],\n       [0.        , 0.        , 0.10906346, 0.10475813, 0.1       ,\n        0.09474145],\n       [0.        , 0.        , 0.        , 0.11295909, 0.10906346,\n        0.10475813],\n       [0.        , 0.        , 0.        , 0.        , 0.116484  ,\n        0.11295909],\n       [0.        , 0.        , 0.        , 0.        , 0.        ,\n        0.11967347]])"
     },
     "execution_count": 35,
     "metadata": {},
     "output_type": "execute_result"
    }
   ],
   "source": [
    "vol_tree"
   ],
   "metadata": {
    "collapsed": false,
    "ExecuteTime": {
     "end_time": "2024-09-25T01:58:01.902952Z",
     "start_time": "2024-09-25T01:58:01.897960Z"
    }
   },
   "id": "631dc7727ad08512",
   "execution_count": 35
  },
  {
   "cell_type": "code",
   "outputs": [
    {
     "data": {
      "text/plain": "3.9510547019920144"
     },
     "execution_count": 61,
     "metadata": {},
     "output_type": "execute_result"
    }
   ],
   "source": [
    "binomial_price(0.094741, 110.517092, 0.03, 100, 2, 2, is_call=True, is_euro=True, q=0)"
   ],
   "metadata": {
    "collapsed": false,
    "ExecuteTime": {
     "end_time": "2024-09-25T02:43:51.289171Z",
     "start_time": "2024-09-25T02:43:51.285018Z"
    }
   },
   "id": "6e01cfe45b4d3748",
   "execution_count": 61
  },
  {
   "cell_type": "code",
   "outputs": [
    {
     "data": {
      "text/plain": "7.037069735885942"
     },
     "execution_count": 70,
     "metadata": {},
     "output_type": "execute_result"
    }
   ],
   "source": [
    "binomial_price(0.0886, 120.51, 0.03, 120.51, 1, 1, is_call=True, is_euro=True, q=0)"
   ],
   "metadata": {
    "collapsed": false,
    "ExecuteTime": {
     "end_time": "2024-09-25T03:00:06.201508Z",
     "start_time": "2024-09-25T03:00:06.196600Z"
    }
   },
   "id": "46658142689b57f0",
   "execution_count": 70
  },
  {
   "cell_type": "code",
   "outputs": [],
   "source": [],
   "metadata": {
    "collapsed": false
   },
   "id": "a11747e6e7de324"
  }
 ],
 "metadata": {
  "kernelspec": {
   "display_name": "Python 3",
   "language": "python",
   "name": "python3"
  },
  "language_info": {
   "codemirror_mode": {
    "name": "ipython",
    "version": 2
   },
   "file_extension": ".py",
   "mimetype": "text/x-python",
   "name": "python",
   "nbconvert_exporter": "python",
   "pygments_lexer": "ipython2",
   "version": "2.7.6"
  }
 },
 "nbformat": 4,
 "nbformat_minor": 5
}
